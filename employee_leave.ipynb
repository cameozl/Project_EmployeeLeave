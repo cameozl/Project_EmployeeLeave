{
  "cells": [
    {
      "metadata": {
        "collapsed": true,
        "_uuid": "2ae447dc61c18ac4f19eacdb3d56362a1316c5b8",
        "trusted": true
      },
      "cell_type": "code",
      "source": "import numpy as np \nimport pandas as pd \nfrom patsy import dmatrices \nfrom sklearn.linear_model import LogisticRegression \nfrom sklearn.model_selection import train_test_split, cross_val_score \nfrom sklearn import metrics \nimport matplotlib.pyplot as plt ",
      "execution_count": null,
      "outputs": []
    },
    {
      "metadata": {
        "_uuid": "3ce4131659afdd90f3675c65b40c8dde129fdfd3"
      },
      "cell_type": "markdown",
      "source": "1. Read Data ../input/HR_comma_sep.csv"
    },
    {
      "metadata": {
        "_uuid": "d89d2b07195f5f54ca1b27cc3a7aa9088e478ae8",
        "trusted": true
      },
      "cell_type": "code",
      "source": "data = pd.read_csv(\"../input/HR_comma_sep.csv\")\ndata.head()\ndata.columns",
      "execution_count": null,
      "outputs": []
    },
    {
      "metadata": {
        "collapsed": true,
        "_uuid": "c6b13a91cbf810075681e3571e9f755a92aedd9f",
        "trusted": true
      },
      "cell_type": "code",
      "source": "data.left = data.left.astype(int)",
      "execution_count": null,
      "outputs": []
    },
    {
      "metadata": {
        "_uuid": "96ae3c44f6da293a6d9e2a218c66e42ebdce3284"
      },
      "cell_type": "markdown",
      "source": "2. Relations (left and salary)"
    },
    {
      "metadata": {
        "scrolled": false,
        "_uuid": "da7777b4143744d6549f6453291d815be4aa5a3f",
        "trusted": true
      },
      "cell_type": "code",
      "source": "pd.crosstab(data.salary, data.left).plot(kind = 'bar', stacked = True)",
      "execution_count": null,
      "outputs": []
    },
    {
      "metadata": {
        "_uuid": "a2cb832fec4ae8df72f5de945abc853c99c75ef5"
      },
      "cell_type": "markdown",
      "source": ""
    },
    {
      "metadata": {
        "_uuid": "d6dcee75ef3bc1b3722254185cf721b9fe743f3f",
        "trusted": true
      },
      "cell_type": "code",
      "source": "tmp = pd.crosstab(data.salary, data.left)\ntmp.div(tmp.sum(axis =1), axis = 0).plot(kind = 'bar', stacked = True)",
      "execution_count": null,
      "outputs": []
    },
    {
      "metadata": {
        "collapsed": true,
        "_uuid": "dcb3a115b7d39d4fceb7bd43ee254334e7c29c34",
        "trusted": false
      },
      "cell_type": "markdown",
      "source": "Left vs. satisfaction level"
    },
    {
      "metadata": {
        "_uuid": "e4e97109ba6011f1946a1f4470b96c834511a825",
        "trusted": true
      },
      "cell_type": "code",
      "source": "plt.subplot(121)\ndata[data['left'] == 0]['satisfaction_level'].hist(bins = 50)\nplt.subplot(122)\ndata[data['left'] == 1]['satisfaction_level'].hist(bins = 50)",
      "execution_count": null,
      "outputs": []
    },
    {
      "metadata": {
        "_uuid": "3ce3158b22c50b51ebdee7b07009e5616a5c81ad"
      },
      "cell_type": "markdown",
      "source": "dmatrices categorical features;"
    },
    {
      "metadata": {
        "_uuid": "a2b7d3234ec824abc1316fd11b2eeed0b5eb0ca3",
        "trusted": true
      },
      "cell_type": "code",
      "source": "y, X = dmatrices('left ~ satisfaction_level + last_evaluation + number_project + average_montly_hours + time_spend_company + Work_accident + promotion_last_5years + C(sales) + C(salary)',data, return_type = 'dataframe')",
      "execution_count": null,
      "outputs": []
    },
    {
      "metadata": {
        "collapsed": true,
        "_uuid": "9fbcd474e1e2fc5cd3ffda2c8e31dbb56bd57d58",
        "trusted": true
      },
      "cell_type": "code",
      "source": "X = X.rename(columns = {\n    'C(sales)[T.RandD]': 'Department: Random',\n    'C(sales)[T.accounting]': 'Department: Accounting',\n    'C(sales)[T.hr]': 'Department: HR',\n    'C(sales)[T.management]': 'Department: Management',\n    'C(sales)[T.marketing]': 'Department: Marketing',\n    'C(sales)[T.product_mng]': 'Department: Product_Management',\n    'C(sales)[T.sales]': 'Department: Sales',\n    'C(sales)[T.support]': 'Department: Support',\n    'C(sales)[T.technical]': 'Department: Technical',\n    'C(salary)[T.low]': 'Salary: Low',\n    'C(salary)[T.medium]': 'Salary: Medium'}) \ny = np.ravel(y) # 将y变成np的一维数组",
      "execution_count": null,
      "outputs": []
    },
    {
      "metadata": {
        "_uuid": "bf3f2c9129f7c69176ae1e2fc641ac07f68feadc"
      },
      "cell_type": "markdown",
      "source": "Training data use logistic regression"
    },
    {
      "metadata": {
        "_uuid": "d8c9f43925fb239f5f9ca4e469e4a6531b8e857c",
        "trusted": true
      },
      "cell_type": "code",
      "source": "model = LogisticRegression()\nmodel.fit(X,y)\npd.DataFrame(list(zip(X.columns, np.transpose(model.coef_))))",
      "execution_count": null,
      "outputs": []
    },
    {
      "metadata": {
        "_uuid": "1faf4821236b9b8e4fb356a41f5db80f4db4cdc7"
      },
      "cell_type": "markdown",
      "source": "Score of the model"
    },
    {
      "metadata": {
        "_uuid": "68d18101263386075e8e77754f979de3c41c2fc0",
        "trusted": true
      },
      "cell_type": "code",
      "source": "print(model.score(X,y))\nmodel.coef_",
      "execution_count": null,
      "outputs": []
    },
    {
      "metadata": {
        "_uuid": "704bd00679ad5a7952e8b145eeface9e5e4cd669"
      },
      "cell_type": "markdown",
      "source": "Predict if one employee will leave: (e.g. high salary HR, satisfaction level 0.5, evalution last time 0.7, 4 projects, 160hr/month, 3 years, no promotion in last 5 years, no injury)"
    },
    {
      "metadata": {
        "_uuid": "4543597c1644dea1fc69c69d4c81c937d0fbbabc",
        "trusted": true
      },
      "cell_type": "code",
      "source": "model.predict_proba([[1,0,0,1,0,0,0,0,0,0,0,0, 0.5, 0.7, 4.0, 160, 3.0, 0, 0]])",
      "execution_count": null,
      "outputs": []
    },
    {
      "metadata": {
        "_uuid": "d8f937cff6781070009b02ae4b1a05d8d10cd4f6",
        "trusted": true
      },
      "cell_type": "code",
      "source": "model.predict_proba(X)\npred = model.predict(X)\n(abs(pred-y)).sum() / len(y)",
      "execution_count": null,
      "outputs": []
    },
    {
      "metadata": {
        "_uuid": "6bf7df402584e34d2440d30a9518c9c8aa44615b"
      },
      "cell_type": "markdown",
      "source": "Split dataset into training and testing data"
    },
    {
      "metadata": {
        "collapsed": true,
        "_uuid": "19ea561f702de8aa9417c05deb0fb7bc4f9ff818",
        "trusted": true
      },
      "cell_type": "code",
      "source": "Xtrain, Xtest, ytrain, ytest = train_test_split(X, y, test_size = 0.3, random_state = 0)",
      "execution_count": null,
      "outputs": []
    },
    {
      "metadata": {
        "_uuid": "7936ef4124a2c56c99ac1a8922dcf165bc407e43",
        "trusted": true
      },
      "cell_type": "code",
      "source": "model2 = LogisticRegression(C=10000)\nmodel2.fit(Xtrain, ytrain)\npred = model2.predict(Xtest)\nmetrics.accuracy_score(ytest, pred)\n",
      "execution_count": null,
      "outputs": []
    },
    {
      "metadata": {
        "_uuid": "90beb9465828378ed483f5a1a20735fa3479ed27"
      },
      "cell_type": "markdown",
      "source": "Get the confusion matrix"
    },
    {
      "metadata": {
        "_uuid": "59f47d424447d7c4b3bfaa098199149276735995",
        "trusted": true
      },
      "cell_type": "code",
      "source": "metrics.confusion_matrix(ytest, pred)",
      "execution_count": null,
      "outputs": []
    },
    {
      "metadata": {
        "scrolled": false,
        "_uuid": "c34b75b82a57927a39eaf64b24926cb40791fc7c",
        "trusted": true
      },
      "cell_type": "code",
      "source": "print(metrics.classification_report(ytest, pred))\n",
      "execution_count": null,
      "outputs": []
    },
    {
      "metadata": {
        "_uuid": "6d3c6213a9811f348a3d7e8c67c1e8cd7d2eaed1"
      },
      "cell_type": "markdown",
      "source": "10 fold Cross Validation"
    },
    {
      "metadata": {
        "_uuid": "4a7fae1a246cff8ce49b8116b2d98a98f7951a0e",
        "trusted": true
      },
      "cell_type": "code",
      "source": "print(cross_val_score(LogisticRegression(), X, y, scoring='accuracy', cv=10))",
      "execution_count": null,
      "outputs": []
    },
    {
      "metadata": {
        "trusted": true,
        "_uuid": "84de2a37e4b264a747aceaf9ac1314e382cf4891"
      },
      "cell_type": "code",
      "source": "cross_val_score(LogisticRegression(), X, y, scoring='accuracy', cv=10).mean()",
      "execution_count": null,
      "outputs": []
    },
    {
      "metadata": {
        "trusted": true,
        "collapsed": true,
        "_uuid": "7269c5c2a126e8669aa4e4af0021b3acb2fd388b"
      },
      "cell_type": "code",
      "source": "",
      "execution_count": null,
      "outputs": []
    }
  ],
  "metadata": {
    "kernelspec": {
      "display_name": "Python 3",
      "language": "python",
      "name": "python3"
    },
    "language_info": {
      "name": "python",
      "version": "3.6.6",
      "mimetype": "text/x-python",
      "codemirror_mode": {
        "name": "ipython",
        "version": 3
      },
      "pygments_lexer": "ipython3",
      "nbconvert_exporter": "python",
      "file_extension": ".py"
    }
  },
  "nbformat": 4,
  "nbformat_minor": 1
}