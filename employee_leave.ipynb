{
 "cells": [
  {
   "cell_type": "markdown",
   "metadata": {},
   "source": [
    "----------\n",
    "**The Hidden Truth behind Employee Leave**\n",
    "=====================================\n",
    "\n",
    "***Zoe Li***\n",
    "\n",
    "----------"
   ]
  },
  {
   "cell_type": "markdown",
   "metadata": {},
   "source": [
    "## The Problem"
   ]
  },
  {
   "cell_type": "markdown",
   "metadata": {},
   "source": [
    "Why are you looking for a change? This is a question frequently asked by recruiters during an interview.\n",
    "\n",
    "An interviewer would expect 'correct' answers: they enjoy their job, there is nothing they dislike about their current positions, and they are leaving for the right reasons - a better opportunity, more challenges, and career growth.\n",
    "\n",
    "However, how many facts can be reflected by the sophiscated text-verison answers? For example, if a company is suffering from employee leave, should the company listen to 'words' of their employee or the 'fact' behind data?\n",
    "\n",
    "Below, we will try to figure out why employee leave for other jobs and come up with suggestions for employers to keep staff.\n",
    "\n",
    "\n",
    "I take advantage of a dataset from Kaggle.\n",
    "\n",
    "- satisfaction level \n",
    "- last evaluation\n",
    "- number of projects\n",
    "- average working hours (per month)\n",
    "- time spend at company\n",
    "- work accident\n",
    "- if promoted in last 5 years\n",
    "- Department\n",
    "- salary level (low, medium, high)\n",
    "- employee left or not\n",
    "\n",
    "\n",
    "The structure of the project: In Section 2, I inspect data and do feature engineer. In Section 3, I train and evaluate different classfication  models with cross validations. The main conclusions and insights are summarized in Section 4.\n",
    "\n",
    "-------------------\n",
    "\n",
    "\n"
   ]
  },
  {
   "cell_type": "code",
   "execution_count": 1,
   "metadata": {
    "_uuid": "2ae447dc61c18ac4f19eacdb3d56362a1316c5b8"
   },
   "outputs": [],
   "source": [
    "%matplotlib inline\n",
    "import numpy as np\n",
    "import pandas as pd\n",
    "import matplotlib.pyplot as plt\n",
    "import seaborn as sns"
   ]
  },
  {
   "cell_type": "markdown",
   "metadata": {
    "_uuid": "3ce4131659afdd90f3675c65b40c8dde129fdfd3"
   },
   "source": [
    "## The Data"
   ]
  },
  {
   "cell_type": "code",
   "execution_count": 2,
   "metadata": {
    "_uuid": "d89d2b07195f5f54ca1b27cc3a7aa9088e478ae8"
   },
   "outputs": [
    {
     "data": {
      "text/html": [
       "<div>\n",
       "<style scoped>\n",
       "    .dataframe tbody tr th:only-of-type {\n",
       "        vertical-align: middle;\n",
       "    }\n",
       "\n",
       "    .dataframe tbody tr th {\n",
       "        vertical-align: top;\n",
       "    }\n",
       "\n",
       "    .dataframe thead th {\n",
       "        text-align: right;\n",
       "    }\n",
       "</style>\n",
       "<table border=\"1\" class=\"dataframe\">\n",
       "  <thead>\n",
       "    <tr style=\"text-align: right;\">\n",
       "      <th></th>\n",
       "      <th>satisfaction_level</th>\n",
       "      <th>last_evaluation</th>\n",
       "      <th>number_project</th>\n",
       "      <th>average_montly_hours</th>\n",
       "      <th>time_spend_company</th>\n",
       "      <th>Work_accident</th>\n",
       "      <th>left</th>\n",
       "      <th>promotion_last_5years</th>\n",
       "      <th>sales</th>\n",
       "      <th>salary</th>\n",
       "    </tr>\n",
       "  </thead>\n",
       "  <tbody>\n",
       "    <tr>\n",
       "      <th>0</th>\n",
       "      <td>0.38</td>\n",
       "      <td>0.53</td>\n",
       "      <td>2</td>\n",
       "      <td>157</td>\n",
       "      <td>3</td>\n",
       "      <td>0</td>\n",
       "      <td>1</td>\n",
       "      <td>0</td>\n",
       "      <td>sales</td>\n",
       "      <td>low</td>\n",
       "    </tr>\n",
       "    <tr>\n",
       "      <th>1</th>\n",
       "      <td>0.80</td>\n",
       "      <td>0.86</td>\n",
       "      <td>5</td>\n",
       "      <td>262</td>\n",
       "      <td>6</td>\n",
       "      <td>0</td>\n",
       "      <td>1</td>\n",
       "      <td>0</td>\n",
       "      <td>sales</td>\n",
       "      <td>medium</td>\n",
       "    </tr>\n",
       "    <tr>\n",
       "      <th>2</th>\n",
       "      <td>0.11</td>\n",
       "      <td>0.88</td>\n",
       "      <td>7</td>\n",
       "      <td>272</td>\n",
       "      <td>4</td>\n",
       "      <td>0</td>\n",
       "      <td>1</td>\n",
       "      <td>0</td>\n",
       "      <td>sales</td>\n",
       "      <td>medium</td>\n",
       "    </tr>\n",
       "    <tr>\n",
       "      <th>3</th>\n",
       "      <td>0.72</td>\n",
       "      <td>0.87</td>\n",
       "      <td>5</td>\n",
       "      <td>223</td>\n",
       "      <td>5</td>\n",
       "      <td>0</td>\n",
       "      <td>1</td>\n",
       "      <td>0</td>\n",
       "      <td>sales</td>\n",
       "      <td>low</td>\n",
       "    </tr>\n",
       "    <tr>\n",
       "      <th>4</th>\n",
       "      <td>0.37</td>\n",
       "      <td>0.52</td>\n",
       "      <td>2</td>\n",
       "      <td>159</td>\n",
       "      <td>3</td>\n",
       "      <td>0</td>\n",
       "      <td>1</td>\n",
       "      <td>0</td>\n",
       "      <td>sales</td>\n",
       "      <td>low</td>\n",
       "    </tr>\n",
       "  </tbody>\n",
       "</table>\n",
       "</div>"
      ],
      "text/plain": [
       "   satisfaction_level  last_evaluation  number_project  average_montly_hours  \\\n",
       "0                0.38             0.53               2                   157   \n",
       "1                0.80             0.86               5                   262   \n",
       "2                0.11             0.88               7                   272   \n",
       "3                0.72             0.87               5                   223   \n",
       "4                0.37             0.52               2                   159   \n",
       "\n",
       "   time_spend_company  Work_accident  left  promotion_last_5years  sales  \\\n",
       "0                   3              0     1                      0  sales   \n",
       "1                   6              0     1                      0  sales   \n",
       "2                   4              0     1                      0  sales   \n",
       "3                   5              0     1                      0  sales   \n",
       "4                   3              0     1                      0  sales   \n",
       "\n",
       "   salary  \n",
       "0     low  \n",
       "1  medium  \n",
       "2  medium  \n",
       "3     low  \n",
       "4     low  "
      ]
     },
     "execution_count": 2,
     "metadata": {},
     "output_type": "execute_result"
    }
   ],
   "source": [
    "data = pd.read_csv(\"./input/HR_comma_sep.csv\")\n",
    "data.head()\n",
    "#data.columns"
   ]
  },
  {
   "cell_type": "code",
   "execution_count": 3,
   "metadata": {},
   "outputs": [
    {
     "name": "stdout",
     "output_type": "stream",
     "text": [
      "<class 'pandas.core.frame.DataFrame'>\n",
      "RangeIndex: 14999 entries, 0 to 14998\n",
      "Data columns (total 10 columns):\n",
      "satisfaction_level       14999 non-null float64\n",
      "last_evaluation          14999 non-null float64\n",
      "number_project           14999 non-null int64\n",
      "average_montly_hours     14999 non-null int64\n",
      "time_spend_company       14999 non-null int64\n",
      "Work_accident            14999 non-null int64\n",
      "left                     14999 non-null int64\n",
      "promotion_last_5years    14999 non-null int64\n",
      "sales                    14999 non-null object\n",
      "salary                   14999 non-null object\n",
      "dtypes: float64(2), int64(6), object(2)\n",
      "memory usage: 1.1+ MB\n"
     ]
    }
   ],
   "source": [
    "data.info()\n",
    "#data.left = data.left.astype(int)\n",
    "#print(data.isnull().values.any())"
   ]
  },
  {
   "cell_type": "code",
   "execution_count": 4,
   "metadata": {
    "_uuid": "c6b13a91cbf810075681e3571e9f755a92aedd9f"
   },
   "outputs": [
    {
     "data": {
      "text/plain": [
       "<matplotlib.axes._subplots.AxesSubplot at 0x1a0b443668>"
      ]
     },
     "execution_count": 4,
     "metadata": {},
     "output_type": "execute_result"
    },
    {
     "data": {
      "image/png": "[encoded data removed]",
      "text/plain": [
       "<Figure size 432x288 with 1 Axes>"
      ]
     },
     "metadata": {},
     "output_type": "display_data"
    }
   ],
   "source": [
    "data['left'].hist()"
   ]
  },
  {
   "cell_type": "markdown",
   "metadata": {
    "_uuid": "96ae3c44f6da293a6d9e2a218c66e42ebdce3284"
   },
   "source": [
    "### numerical variables "
   ]
  },
  {
   "cell_type": "markdown",
   "metadata": {},
   "source": [
    "(satisfaction level, last evaluation, average monthly hours, time spend company)"
   ]
  },
  {
   "cell_type": "code",
   "execution_count": 5,
   "metadata": {},
   "outputs": [
    {
     "data": {
      "text/plain": [
       "<matplotlib.axes._subplots.AxesSubplot at 0x1a0ba69198>"
      ]
     },
     "execution_count": 5,
     "metadata": {},
     "output_type": "execute_result"
    },
    {
     "data": {
      "image/png": "[encoded data removed]",
      "text/plain": [
       "<Figure size 864x360 with 2 Axes>"
      ]
     },
     "metadata": {},
     "output_type": "display_data"
    }
   ],
   "source": [
    "plt.subplots(figsize=(12, 5))\n",
    "sns.heatmap(data[['satisfaction_level', 'last_evaluation', 'average_montly_hours', 'time_spend_company']].corr(), fmt='.2f', annot=True, square=True)"
   ]
  },
  {
   "cell_type": "code",
   "execution_count": 6,
   "metadata": {},
   "outputs": [
    {
     "data": {
      "image/png": "[encoded data removed]",
      "text/plain": [
       "<Figure size 432x288 with 2 Axes>"
      ]
     },
     "metadata": {},
     "output_type": "display_data"
    }
   ],
   "source": [
    "plt.subplot(121)\n",
    "data[data['left'] == 0]['satisfaction_level'].hist(bins = 50)\n",
    "plt.subplot(122)\n",
    "data[data['left'] == 1]['satisfaction_level'].hist(bins = 50);"
   ]
  },
  {
   "cell_type": "code",
   "execution_count": 7,
   "metadata": {},
   "outputs": [
    {
     "data": {
      "image/png": "[encoded data removed]",
      "text/plain": [
       "<Figure size 432x288 with 2 Axes>"
      ]
     },
     "metadata": {},
     "output_type": "display_data"
    }
   ],
   "source": [
    "plt.subplot(121)\n",
    "data[data['left'] == 0]['last_evaluation'].hist(bins = 50)\n",
    "plt.subplot(122)\n",
    "data[data['left'] == 1]['last_evaluation'].hist(bins = 50);"
   ]
  },
  {
   "cell_type": "code",
   "execution_count": 8,
   "metadata": {},
   "outputs": [
    {
     "data": {
      "image/png": "[encoded data removed]",
      "text/plain": [
       "<Figure size 432x288 with 2 Axes>"
      ]
     },
     "metadata": {},
     "output_type": "display_data"
    }
   ],
   "source": [
    "plt.subplot(121)\n",
    "data[data['left'] == 0]['average_montly_hours'].hist(bins = 50)\n",
    "plt.subplot(122)\n",
    "data[data['left'] == 1]['average_montly_hours'].hist(bins = 50);"
   ]
  },
  {
   "cell_type": "code",
   "execution_count": 9,
   "metadata": {},
   "outputs": [
    {
     "data": {
      "image/png": "[encoded data removed]",
      "text/plain": [
       "<Figure size 432x288 with 2 Axes>"
      ]
     },
     "metadata": {},
     "output_type": "display_data"
    }
   ],
   "source": [
    "plt.subplot(121)\n",
    "data[data['left'] == 0]['time_spend_company'].hist(bins = 50)\n",
    "plt.subplot(122)\n",
    "data[data['left'] == 1]['time_spend_company'].hist(bins = 50);"
   ]
  },
  {
   "cell_type": "markdown",
   "metadata": {},
   "source": [
    "### categorical variables\n",
    "(work accident, promotion, department, number of projects, salary)"
   ]
  },
  {
   "cell_type": "code",
   "execution_count": 10,
   "metadata": {},
   "outputs": [
    {
     "data": {
      "image/png": "[encoded data removed]",
      "text/plain": [
       "<Figure size 432x288 with 1 Axes>"
      ]
     },
     "metadata": {},
     "output_type": "display_data"
    }
   ],
   "source": [
    "tmp_acc = pd.crosstab(data['Work_accident'], data.left)\n",
    "tmp_acc.div(tmp_acc.sum(axis =1), axis = 0).plot(kind = 'bar', stacked = True);"
   ]
  },
  {
   "cell_type": "code",
   "execution_count": 11,
   "metadata": {
    "_uuid": "da7777b4143744d6549f6453291d815be4aa5a3f",
    "scrolled": false
   },
   "outputs": [
    {
     "data": {
      "image/png": "[encoded data removed]",
      "text/plain": [
       "<Figure size 432x288 with 1 Axes>"
      ]
     },
     "metadata": {},
     "output_type": "display_data"
    }
   ],
   "source": [
    "tmp_pro = pd.crosstab(data['promotion_last_5years'], data.left)\n",
    "tmp_pro.div(tmp_pro.sum(axis =1), axis = 0).plot(kind = 'bar', stacked = True);"
   ]
  },
  {
   "cell_type": "code",
   "execution_count": 12,
   "metadata": {},
   "outputs": [
    {
     "data": {
      "image/png": "[encoded data removed]",
      "text/plain": [
       "<Figure size 432x288 with 1 Axes>"
      ]
     },
     "metadata": {},
     "output_type": "display_data"
    }
   ],
   "source": [
    "tmp_sales = pd.crosstab(data['sales'], data.left)\n",
    "tmp_sales.div(tmp_sales.sum(axis =1), axis = 0).plot(kind = 'bar', stacked = True);"
   ]
  },
  {
   "cell_type": "code",
   "execution_count": 13,
   "metadata": {
    "_uuid": "a2cb832fec4ae8df72f5de945abc853c99c75ef5"
   },
   "outputs": [
    {
     "data": {
      "image/png": "[encoded data removed]",
      "text/plain": [
       "<Figure size 432x288 with 1 Axes>"
      ]
     },
     "metadata": {},
     "output_type": "display_data"
    }
   ],
   "source": [
    "tmp_proj = pd.crosstab(data['number_project'], data.left)\n",
    "tmp_proj.div(tmp_proj.sum(axis =1), axis = 0).plot(kind = 'bar', stacked = True);"
   ]
  },
  {
   "cell_type": "code",
   "execution_count": 14,
   "metadata": {
    "_uuid": "d6dcee75ef3bc1b3722254185cf721b9fe743f3f"
   },
   "outputs": [
    {
     "data": {
      "image/png": "[encoded data removed]",
      "text/plain": [
       "<Figure size 432x288 with 1 Axes>"
      ]
     },
     "metadata": {},
     "output_type": "display_data"
    }
   ],
   "source": [
    "tmp = pd.crosstab(data.salary, data.left)\n",
    "tmp.div(tmp.sum(axis =1), axis = 0).plot(kind = 'bar', stacked = True);"
   ]
  },
  {
   "cell_type": "code",
   "execution_count": 15,
   "metadata": {
    "_uuid": "dcb3a115b7d39d4fceb7bd43ee254334e7c29c34"
   },
   "outputs": [],
   "source": [
    "# tmp_time = pd.crosstab(data['time_spend_company'], data.left)\n",
    "# tmp_time.div(tmp_time.sum(axis =1), axis = 0).plot(kind = 'bar', stacked = True);"
   ]
  },
  {
   "cell_type": "code",
   "execution_count": null,
   "metadata": {
    "_uuid": "e4e97109ba6011f1946a1f4470b96c834511a825"
   },
   "outputs": [],
   "source": []
  },
  {
   "cell_type": "markdown",
   "metadata": {
    "_uuid": "3ce3158b22c50b51ebdee7b07009e5616a5c81ad"
   },
   "source": [
    "### Dummy variables"
   ]
  },
  {
   "cell_type": "code",
   "execution_count": 16,
   "metadata": {
    "_uuid": "a2b7d3234ec824abc1316fd11b2eeed0b5eb0ca3"
   },
   "outputs": [],
   "source": [
    "from patsy import dmatrices \n",
    "\n",
    "\n",
    "y, X = dmatrices('left ~ satisfaction_level + last_evaluation + number_project + average_montly_hours + time_spend_company + Work_accident + promotion_last_5years + C(sales) + C(salary)',data, return_type = 'dataframe')"
   ]
  },
  {
   "cell_type": "code",
   "execution_count": 17,
   "metadata": {
    "_uuid": "9fbcd474e1e2fc5cd3ffda2c8e31dbb56bd57d58"
   },
   "outputs": [],
   "source": [
    "X = X.rename(columns = {\n",
    "    'C(sales)[T.RandD]': 'Department: Random',\n",
    "    'C(sales)[T.accounting]': 'Department: Accounting',\n",
    "    'C(sales)[T.hr]': 'Department: HR',\n",
    "    'C(sales)[T.management]': 'Department: Management',\n",
    "    'C(sales)[T.marketing]': 'Department: Marketing',\n",
    "    'C(sales)[T.product_mng]': 'Department: Product_Management',\n",
    "    'C(sales)[T.sales]': 'Department: Sales',\n",
    "    'C(sales)[T.support]': 'Department: Support',\n",
    "    'C(sales)[T.technical]': 'Department: Technical',\n",
    "    'C(salary)[T.low]': 'Salary: Low',\n",
    "    'C(salary)[T.medium]': 'Salary: Medium'}) \n",
    "y = np.ravel(y) "
   ]
  },
  {
   "cell_type": "code",
   "execution_count": 18,
   "metadata": {},
   "outputs": [],
   "source": [
    "from sklearn import metrics \n",
    "from sklearn.model_selection import  KFold, train_test_split, cross_val_score \n",
    "\n",
    "\n",
    "def model_score(model):\n",
    "    kf = KFold(n_splits=3, shuffle=True, random_state=0)\n",
    "    m_score = cross_val_score(model, X, y, scoring=\"accuracy\", cv=kf)\n",
    "    return (m_score.mean())\n",
    "\n",
    "#Xtrain, Xtest, ytrain, ytest = train_test_split(X, y, test_size = 0.3, random_state = 0)"
   ]
  },
  {
   "cell_type": "markdown",
   "metadata": {
    "_uuid": "bf3f2c9129f7c69176ae1e2fc641ac07f68feadc"
   },
   "source": [
    "## Classifications"
   ]
  },
  {
   "cell_type": "code",
   "execution_count": 19,
   "metadata": {},
   "outputs": [
    {
     "data": {
      "text/html": [
       "<div>\n",
       "<style scoped>\n",
       "    .dataframe tbody tr th:only-of-type {\n",
       "        vertical-align: middle;\n",
       "    }\n",
       "\n",
       "    .dataframe tbody tr th {\n",
       "        vertical-align: top;\n",
       "    }\n",
       "\n",
       "    .dataframe thead th {\n",
       "        text-align: right;\n",
       "    }\n",
       "</style>\n",
       "<table border=\"1\" class=\"dataframe\">\n",
       "  <thead>\n",
       "    <tr style=\"text-align: right;\">\n",
       "      <th></th>\n",
       "      <th>Model</th>\n",
       "      <th>Score</th>\n",
       "    </tr>\n",
       "  </thead>\n",
       "  <tbody>\n",
       "    <tr>\n",
       "      <th>0</th>\n",
       "      <td>LogisticRegression(C=1.0, class_weight=None, d...</td>\n",
       "      <td>0.789586</td>\n",
       "    </tr>\n",
       "    <tr>\n",
       "      <th>1</th>\n",
       "      <td>KNeighborsClassifier(algorithm='auto', leaf_si...</td>\n",
       "      <td>0.937863</td>\n",
       "    </tr>\n",
       "    <tr>\n",
       "      <th>2</th>\n",
       "      <td>DecisionTreeClassifier(class_weight=None, crit...</td>\n",
       "      <td>0.977732</td>\n",
       "    </tr>\n",
       "    <tr>\n",
       "      <th>3</th>\n",
       "      <td>RandomForestClassifier(bootstrap=True, class_w...</td>\n",
       "      <td>0.987466</td>\n",
       "    </tr>\n",
       "    <tr>\n",
       "      <th>4</th>\n",
       "      <td>GradientBoostingClassifier(criterion='friedman...</td>\n",
       "      <td>0.975065</td>\n",
       "    </tr>\n",
       "    <tr>\n",
       "      <th>5</th>\n",
       "      <td>MLPClassifier(activation='relu', alpha=0.0001,...</td>\n",
       "      <td>0.878591</td>\n",
       "    </tr>\n",
       "  </tbody>\n",
       "</table>\n",
       "</div>"
      ],
      "text/plain": [
       "                                               Model     Score\n",
       "0  LogisticRegression(C=1.0, class_weight=None, d...  0.789586\n",
       "1  KNeighborsClassifier(algorithm='auto', leaf_si...  0.937863\n",
       "2  DecisionTreeClassifier(class_weight=None, crit...  0.977732\n",
       "3  RandomForestClassifier(bootstrap=True, class_w...  0.987466\n",
       "4  GradientBoostingClassifier(criterion='friedman...  0.975065\n",
       "5  MLPClassifier(activation='relu', alpha=0.0001,...  0.878591"
      ]
     },
     "execution_count": 19,
     "metadata": {},
     "output_type": "execute_result"
    }
   ],
   "source": [
    "\n",
    "from sklearn.linear_model import LogisticRegression as LR\n",
    "from sklearn.neighbors import KNeighborsClassifier as KN\n",
    "from sklearn.tree import DecisionTreeClassifier as DT\n",
    "from sklearn.ensemble import RandomForestClassifier as RF\n",
    "from sklearn.ensemble import GradientBoostingClassifier as GB\n",
    "from sklearn.neural_network import MLPClassifier as MLP\n",
    "\n",
    "model_list = [LR(),KN(),DT(),RF(),GB(),MLP()]\n",
    "\n",
    "\n",
    "score_l = []\n",
    "for model in model_list:\n",
    "    score_l.append(model_score(model))\n",
    "    \n",
    "d={'Model':model_list,'Score':score_l}   \n",
    "res_frame=pd.DataFrame(d)\n",
    "res_frame\n",
    "\n"
   ]
  },
  {
   "cell_type": "markdown",
   "metadata": {},
   "source": [
    "### LogisticRegression"
   ]
  },
  {
   "cell_type": "code",
   "execution_count": 30,
   "metadata": {
    "_uuid": "d8c9f43925fb239f5f9ca4e469e4a6531b8e857c"
   },
   "outputs": [
    {
     "data": {
      "text/html": [
       "<div>\n",
       "<style scoped>\n",
       "    .dataframe tbody tr th:only-of-type {\n",
       "        vertical-align: middle;\n",
       "    }\n",
       "\n",
       "    .dataframe tbody tr th {\n",
       "        vertical-align: top;\n",
       "    }\n",
       "\n",
       "    .dataframe thead th {\n",
       "        text-align: right;\n",
       "    }\n",
       "</style>\n",
       "<table border=\"1\" class=\"dataframe\">\n",
       "  <thead>\n",
       "    <tr style=\"text-align: right;\">\n",
       "      <th></th>\n",
       "      <th>0</th>\n",
       "      <th>1</th>\n",
       "    </tr>\n",
       "  </thead>\n",
       "  <tbody>\n",
       "    <tr>\n",
       "      <th>0</th>\n",
       "      <td>Intercept</td>\n",
       "      <td>[-0.7241218101303709]</td>\n",
       "    </tr>\n",
       "    <tr>\n",
       "      <th>1</th>\n",
       "      <td>Department: Random</td>\n",
       "      <td>[-0.4646533540507806]</td>\n",
       "    </tr>\n",
       "    <tr>\n",
       "      <th>2</th>\n",
       "      <td>Department: Accounting</td>\n",
       "      <td>[0.11480746995707178]</td>\n",
       "    </tr>\n",
       "    <tr>\n",
       "      <th>3</th>\n",
       "      <td>Department: HR</td>\n",
       "      <td>[0.34470249740075476]</td>\n",
       "    </tr>\n",
       "    <tr>\n",
       "      <th>4</th>\n",
       "      <td>Department: Management</td>\n",
       "      <td>[-0.36197691576765323]</td>\n",
       "    </tr>\n",
       "  </tbody>\n",
       "</table>\n",
       "</div>"
      ],
      "text/plain": [
       "                        0                       1\n",
       "0               Intercept   [-0.7241218101303709]\n",
       "1      Department: Random   [-0.4646533540507806]\n",
       "2  Department: Accounting   [0.11480746995707178]\n",
       "3          Department: HR   [0.34470249740075476]\n",
       "4  Department: Management  [-0.36197691576765323]"
      ]
     },
     "execution_count": 30,
     "metadata": {},
     "output_type": "execute_result"
    }
   ],
   "source": [
    "model = LR()\n",
    "model.fit(X,y)\n",
    "pd.DataFrame(list(zip(X.columns, np.transpose(model.coef_)))).head()"
   ]
  },
  {
   "cell_type": "code",
   "execution_count": 31,
   "metadata": {
    "_uuid": "68d18101263386075e8e77754f979de3c41c2fc0"
   },
   "outputs": [],
   "source": [
    "# print(model.score(X,y))\n",
    "# model.coef_"
   ]
  },
  {
   "cell_type": "code",
   "execution_count": 34,
   "metadata": {},
   "outputs": [
    {
     "data": {
      "image/png": "[encoded data removed]",
      "text/plain": [
       "<Figure size 1080x288 with 2 Axes>"
      ]
     },
     "metadata": {},
     "output_type": "display_data"
    }
   ],
   "source": [
    "LRCoeff = pd.DataFrame(list(zip(X.columns, np.transpose(model.coef_))))\n",
    "LRCoeff.columns = ['features', 'coeffs']\n",
    "Leave = LRCoeff.sort_values(by=['coeffs'],ascending=False).head(8)\n",
    "NotLeave = LRCoeff.sort_values(by=['coeffs'], ascending=False).tail(7)\n",
    "\n",
    "plt.figure(figsize=(15, 4))\n",
    "\n",
    "plt.subplot(1, 2, 1)\n",
    "plt.plot(Leave['features'].iloc[0:18],Leave['coeffs'].iloc[0:18])\n",
    "locs, labels = plt.xticks()\n",
    "increase = plt.setp(labels, rotation=30)\n",
    "\n",
    "plt.subplot(1, 2, 2)\n",
    "plt.plot(NotLeave['features'].iloc[0:18],NotLeave['coeffs'].iloc[0:18])\n",
    "locs, labels = plt.xticks()\n",
    "decrease = plt.setp(labels, rotation=30)"
   ]
  },
  {
   "cell_type": "markdown",
   "metadata": {
    "_uuid": "704bd00679ad5a7952e8b145eeface9e5e4cd669"
   },
   "source": [
    "**Predict** if one employee will leave: (e.g. high salary HR, satisfaction level 0.5, evalution last time 0.7, 4 projects, 160hr/month, 3 years, no promotion in last 5 years, no injury)"
   ]
  },
  {
   "cell_type": "code",
   "execution_count": 23,
   "metadata": {
    "_uuid": "4543597c1644dea1fc69c69d4c81c937d0fbbabc"
   },
   "outputs": [
    {
     "data": {
      "text/plain": [
       "array([[0.9157868, 0.0842132]])"
      ]
     },
     "execution_count": 23,
     "metadata": {},
     "output_type": "execute_result"
    }
   ],
   "source": [
    "model.predict_proba([[1,0,0,1,0,0,0,0,0,0,0,0, 0.5, 0.7, 4.0, 160, 3.0, 0, 0]])"
   ]
  },
  {
   "cell_type": "code",
   "execution_count": 24,
   "metadata": {},
   "outputs": [],
   "source": [
    "# Xtrain, Xtest, ytrain, ytest = train_test_split(X, y, test_size = 0.3, random_state = 0)\n",
    "# metrics.confusion_matrix(ytest, pred)\n",
    "# print(metrics.classification_report(ytest, pred))"
   ]
  },
  {
   "cell_type": "code",
   "execution_count": 25,
   "metadata": {
    "_uuid": "d8f937cff6781070009b02ae4b1a05d8d10cd4f6"
   },
   "outputs": [],
   "source": [
    "# model.predict_proba(X)\n",
    "# pred = model.predict(X)\n",
    "# (abs(pred-y)).sum() / len(y)"
   ]
  },
  {
   "cell_type": "markdown",
   "metadata": {
    "_uuid": "6bf7df402584e34d2440d30a9518c9c8aa44615b"
   },
   "source": [
    "### Tunning hyperparameters"
   ]
  },
  {
   "cell_type": "code",
   "execution_count": 26,
   "metadata": {
    "_uuid": "7936ef4124a2c56c99ac1a8922dcf165bc407e43"
   },
   "outputs": [
    {
     "name": "stdout",
     "output_type": "stream",
     "text": [
      "Fitting 3 folds for each of 10 candidates, totalling 30 fits\n"
     ]
    },
    {
     "name": "stderr",
     "output_type": "stream",
     "text": [
      "[Parallel(n_jobs=1)]: Done  30 out of  30 | elapsed:    2.0s finished\n"
     ]
    },
    {
     "name": "stdout",
     "output_type": "stream",
     "text": [
      "Fitting 3 folds for each of 5 candidates, totalling 15 fits\n"
     ]
    },
    {
     "name": "stderr",
     "output_type": "stream",
     "text": [
      "[Parallel(n_jobs=1)]: Done  15 out of  15 | elapsed:    4.1s finished\n"
     ]
    },
    {
     "name": "stdout",
     "output_type": "stream",
     "text": [
      "Fitting 3 folds for each of 42 candidates, totalling 126 fits\n"
     ]
    },
    {
     "name": "stderr",
     "output_type": "stream",
     "text": [
      "[Parallel(n_jobs=1)]: Done 126 out of 126 | elapsed:    4.1s finished\n"
     ]
    },
    {
     "name": "stdout",
     "output_type": "stream",
     "text": [
      "Fitting 3 folds for each of 42 candidates, totalling 126 fits\n"
     ]
    },
    {
     "name": "stderr",
     "output_type": "stream",
     "text": [
      "[Parallel(n_jobs=1)]: Done 126 out of 126 | elapsed:   10.8s finished\n"
     ]
    },
    {
     "name": "stdout",
     "output_type": "stream",
     "text": [
      "Fitting 3 folds for each of 4 candidates, totalling 12 fits\n"
     ]
    },
    {
     "name": "stderr",
     "output_type": "stream",
     "text": [
      "[Parallel(n_jobs=1)]: Done  12 out of  12 | elapsed:   19.4s finished\n"
     ]
    },
    {
     "data": {
      "text/html": [
       "<div>\n",
       "<style scoped>\n",
       "    .dataframe tbody tr th:only-of-type {\n",
       "        vertical-align: middle;\n",
       "    }\n",
       "\n",
       "    .dataframe tbody tr th {\n",
       "        vertical-align: top;\n",
       "    }\n",
       "\n",
       "    .dataframe thead th {\n",
       "        text-align: right;\n",
       "    }\n",
       "</style>\n",
       "<table border=\"1\" class=\"dataframe\">\n",
       "  <thead>\n",
       "    <tr style=\"text-align: right;\">\n",
       "      <th></th>\n",
       "      <th>Model</th>\n",
       "      <th>Score</th>\n",
       "    </tr>\n",
       "  </thead>\n",
       "  <tbody>\n",
       "    <tr>\n",
       "      <th>0</th>\n",
       "      <td>LogisticRegression(C=1.0, class_weight=None, d...</td>\n",
       "      <td>0.792053</td>\n",
       "    </tr>\n",
       "    <tr>\n",
       "      <th>1</th>\n",
       "      <td>KNeighborsClassifier(algorithm='auto', leaf_si...</td>\n",
       "      <td>0.952730</td>\n",
       "    </tr>\n",
       "    <tr>\n",
       "      <th>2</th>\n",
       "      <td>DecisionTreeClassifier(class_weight=None, crit...</td>\n",
       "      <td>0.979132</td>\n",
       "    </tr>\n",
       "    <tr>\n",
       "      <th>3</th>\n",
       "      <td>RandomForestClassifier(bootstrap=True, class_w...</td>\n",
       "      <td>0.986799</td>\n",
       "    </tr>\n",
       "    <tr>\n",
       "      <th>4</th>\n",
       "      <td>MLPClassifier(activation='relu', alpha=0.0001,...</td>\n",
       "      <td>0.857251</td>\n",
       "    </tr>\n",
       "  </tbody>\n",
       "</table>\n",
       "</div>"
      ],
      "text/plain": [
       "                                               Model     Score\n",
       "0  LogisticRegression(C=1.0, class_weight=None, d...  0.792053\n",
       "1  KNeighborsClassifier(algorithm='auto', leaf_si...  0.952730\n",
       "2  DecisionTreeClassifier(class_weight=None, crit...  0.979132\n",
       "3  RandomForestClassifier(bootstrap=True, class_w...  0.986799\n",
       "4  MLPClassifier(activation='relu', alpha=0.0001,...  0.857251"
      ]
     },
     "execution_count": 26,
     "metadata": {},
     "output_type": "execute_result"
    }
   ],
   "source": [
    "from sklearn.model_selection import GridSearchCV\n",
    "\n",
    "def tuned_score(model, test_dic):\n",
    "    gs = GridSearchCV(model, scoring=\"accuracy\", cv=3, verbose=1,param_grid=test_dic,)\n",
    "    gs.fit(X, y)\n",
    "    return model_score(gs.best_estimator_)\n",
    "    \n",
    "LR_dic = {\"penalty\": [\"l1\",\"l2\"],\"C\":[0.1, 1, 10, 50, 100]} #\"solver\":[\"newton-cg\", \"lbfgs\", \"liblinear\", \"sag\", \"saga\"]\n",
    "KN_dic = {\"n_neighbors\":[1,3,5,7,9], }\n",
    "DT_dic = {\"max_depth\": [2, 5, 10, 20, 50, 100, None],\"min_samples_split\":[2, 5, 10, 20, 50, 100]}\n",
    "RF_dic = {\"max_depth\": [2, 5, 10, 20, 50, 100, None],\"min_samples_split\":[2, 5, 10, 20, 50, 100]}\n",
    "#GB_dic = {\"learning_rate\": [0.1, 0.5, 1, 5],\"min_samples_split\":[2, 5, 10],\"max_depth\": [2, 5, 10, None]}\n",
    "\n",
    "#GB_dic = {\"learning_rate\": [0.1, 0.5, 1, 5],\"min_samples_split\":[2, 5, 10, 20, 50, 100],\"max_depth\": [2, 5, 10, 20, 50, 100, None]}\n",
    "MLP_dic = {\"hidden_layer_sizes\":[(5,), (10,), (50,), (100,)]}\n",
    "\n",
    "para_l = [LR_dic, KN_dic, DT_dic, RF_dic, MLP_dic]\n",
    "model_list = [LR(),KN(),DT(),RF(), MLP()]\n",
    "\n",
    "\n",
    "\n",
    "score2_l = []\n",
    "for i, model in enumerate(model_list):\n",
    "    score2_l.append(tuned_score(model,para_l[i]))\n",
    "    \n",
    "d2={'Model':model_list,'Score':score2_l}   \n",
    "res2_frame=pd.DataFrame(d2)\n",
    "res2_frame\n",
    "\n",
    "\n",
    "    \n",
    "# gs = GridSearchCV(DecisionTreeClassifier(), scoring=\"accuracy\", cv=3, verbose=1,\n",
    "#                   param_grid={\"max_depth\": [2, 5, 10, 20, 50, 100, None], \n",
    "#                               \"min_samples_split\":[2, 5, 10, 20, 50, 100]}, )\n",
    "# gs.fit(X, y)\n",
    "# print(gs.best_params_)\n",
    "\n",
    "# model_score(gs.best_estimator_)"
   ]
  },
  {
   "cell_type": "code",
   "execution_count": 27,
   "metadata": {
    "_uuid": "59f47d424447d7c4b3bfaa098199149276735995"
   },
   "outputs": [
    {
     "data": {
      "text/html": [
       "<div>\n",
       "<style scoped>\n",
       "    .dataframe tbody tr th:only-of-type {\n",
       "        vertical-align: middle;\n",
       "    }\n",
       "\n",
       "    .dataframe tbody tr th {\n",
       "        vertical-align: top;\n",
       "    }\n",
       "\n",
       "    .dataframe thead th {\n",
       "        text-align: right;\n",
       "    }\n",
       "</style>\n",
       "<table border=\"1\" class=\"dataframe\">\n",
       "  <thead>\n",
       "    <tr style=\"text-align: right;\">\n",
       "      <th></th>\n",
       "      <th>Model</th>\n",
       "      <th>Score</th>\n",
       "    </tr>\n",
       "  </thead>\n",
       "  <tbody>\n",
       "    <tr>\n",
       "      <th>0</th>\n",
       "      <td>LogisticRegression(C=1.0, class_weight=None, d...</td>\n",
       "      <td>0.789586</td>\n",
       "    </tr>\n",
       "    <tr>\n",
       "      <th>1</th>\n",
       "      <td>KNeighborsClassifier(algorithm='auto', leaf_si...</td>\n",
       "      <td>0.937863</td>\n",
       "    </tr>\n",
       "    <tr>\n",
       "      <th>2</th>\n",
       "      <td>DecisionTreeClassifier(class_weight=None, crit...</td>\n",
       "      <td>0.977732</td>\n",
       "    </tr>\n",
       "    <tr>\n",
       "      <th>3</th>\n",
       "      <td>RandomForestClassifier(bootstrap=True, class_w...</td>\n",
       "      <td>0.987466</td>\n",
       "    </tr>\n",
       "    <tr>\n",
       "      <th>4</th>\n",
       "      <td>GradientBoostingClassifier(criterion='friedman...</td>\n",
       "      <td>0.975065</td>\n",
       "    </tr>\n",
       "    <tr>\n",
       "      <th>5</th>\n",
       "      <td>MLPClassifier(activation='relu', alpha=0.0001,...</td>\n",
       "      <td>0.878591</td>\n",
       "    </tr>\n",
       "  </tbody>\n",
       "</table>\n",
       "</div>"
      ],
      "text/plain": [
       "                                               Model     Score\n",
       "0  LogisticRegression(C=1.0, class_weight=None, d...  0.789586\n",
       "1  KNeighborsClassifier(algorithm='auto', leaf_si...  0.937863\n",
       "2  DecisionTreeClassifier(class_weight=None, crit...  0.977732\n",
       "3  RandomForestClassifier(bootstrap=True, class_w...  0.987466\n",
       "4  GradientBoostingClassifier(criterion='friedman...  0.975065\n",
       "5  MLPClassifier(activation='relu', alpha=0.0001,...  0.878591"
      ]
     },
     "execution_count": 27,
     "metadata": {},
     "output_type": "execute_result"
    }
   ],
   "source": [
    "res_frame"
   ]
  },
  {
   "cell_type": "markdown",
   "metadata": {
    "_uuid": "c34b75b82a57927a39eaf64b24926cb40791fc7c",
    "scrolled": false
   },
   "source": [
    "## Summary"
   ]
  },
  {
   "cell_type": "markdown",
   "metadata": {
    "_uuid": "4a7fae1a246cff8ce49b8116b2d98a98f7951a0e"
   },
   "source": [
    "From the project, we can obtain direct insights using logistic regression:\n",
    "- If salary is not high, employee tend to leave. People from HR department tend to leave.\n",
    "- The employee in the management department tend not to leave. If employee got promotion or had work accident, he/she tend not to leave.\n"
   ]
  },
  {
   "cell_type": "code",
   "execution_count": null,
   "metadata": {
    "_uuid": "84de2a37e4b264a747aceaf9ac1314e382cf4891"
   },
   "outputs": [],
   "source": []
  },
  {
   "cell_type": "code",
   "execution_count": null,
   "metadata": {
    "_uuid": "7269c5c2a126e8669aa4e4af0021b3acb2fd388b",
    "collapsed": true
   },
   "outputs": [],
   "source": []
  }
 ],
 "metadata": {
  "kernelspec": {
   "display_name": "Python 3",
   "language": "python",
   "name": "python3"
  },
  "language_info": {
   "codemirror_mode": {
    "name": "ipython",
    "version": 3
   },
   "file_extension": ".py",
   "mimetype": "text/x-python",
   "name": "python",
   "nbconvert_exporter": "python",
   "pygments_lexer": "ipython3",
   "version": "3.6.5"
  },
  "toc": {
   "base_numbering": 1,
   "nav_menu": {
    "height": "244px",
    "width": "272px"
   },
   "number_sections": true,
   "sideBar": true,
   "skip_h1_title": true,
   "title_cell": "Table of Contents",
   "title_sidebar": "Contents",
   "toc_cell": false,
   "toc_position": {
    "height": "calc(100% - 180px)",
    "left": "10px",
    "top": "150px",
    "width": "165px"
   },
   "toc_section_display": true,
   "toc_window_display": true
  }
 },
 "nbformat": 4,
 "nbformat_minor": 1
}
